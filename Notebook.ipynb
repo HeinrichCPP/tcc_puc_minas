{
 "cells": [
  {
   "cell_type": "markdown",
   "id": "prerequisite-dutch",
   "metadata": {},
   "source": [
    "# Análise Exploratória no Genoma das Variantes Brasileira e de Wuhan do Novo Coronavírus"
   ]
  },
  {
   "cell_type": "markdown",
   "id": "received-footage",
   "metadata": {},
   "source": [
    "## 1. Introdução\n",
    "### 1.1 Contextualização\n",
    "\n",
    "No final de 2019, na cidade de Wuhan, foi identificada uma síndrome respiratória altamente infecciosa. No dia 31 de dezembro foi reportado que tal síndrome era causada por um novo coronavírus, o SARS-CoV-2 (EUROPEAN CENTRE FOR DISEASE PREVENTION AND CONTROL, 2020). Coronavírus são vírus de RNA de cadeia simples que ocorrem frequentemente em animais, e alguns deles podem infectar seres humanos. Rapidamente, a doença causada por esse vírus, o COVID-19, já tinha se espalhado por quase todos os países do globo.\n",
    "\n",
    "O mecanismo de replicação do SARS-CoV-2 envolve a entrada do vírus na célula hospedeira através da interação entre proteínas da \"coroa\"(*spike*) do vírus com receptores na membrana plasmática. Isso vai promover a síntese de RNA complementar, que vai servir tanto para a tradução de proteínas quanto para a duplicação do RNA que são necessárias às novas cópias dos vírus (REECE, 2019).\n",
    "\n",
    "\n",
    "<figure>\n",
    "\t<img src = duplicacao_virus.png width=75%>\n",
    "\t<figcaption>Fig 1: Duplicação de vírus de RNA (REECE, 2019)</figcaption>\n",
    "</figure>\n",
    "\n",
    "\n",
    "A taxa de mutação é alta porque as enzimas que promovem a duplicação de RNA não possuem mecanismo de correção de erros (FIELDS, 1996). Isso causa uma alta taxa de mutação, onde podemos ver em grande quantidade expressa na Fig.2:\n",
    "\n",
    "\n",
    "<figure>\n",
    "\t<img src = filogenia.png>\n",
    "\t<figcaption>Fig 2: Duplicação de vírus de RNA (HADFIELD, 2021)</figcaption>\n",
    "</figure>\n",
    "\n",
    "\n",
    "Novas variantes causam grande peocupação e esforços na saúde pública, porque algumas mutações podem alterar a taxa de transmissão, além de reduzir a eficácia imunizantes (CLEM, 2011). Uma variante importante que fez aumentar a taxa de ocupação de leitos de UTI no Brasil é a denominada \"variante brasileira\", a 20J/501Y.V3, da linhagem P.1 (VARIANTE, 2021).\n",
    "\n",
    "### 1.2 Proposta de Trabalho\n",
    "\n",
    "Dentro do vasto tema da bioinformática, busca-se realizar uma análise exploratória do genoma da variante 20J/501Y.V3 com objetivo de comparar suas principais características com a variante encontrada inicialmente em Wuhan.\n",
    "\n",
    "Apesar da análise apresentada nesse trabalho ser essencialmente didática, justifica-se pelo fato de que demonstra o aprendizado de várias habilidades e competências necessárias ao cientista de dados:\n",
    "\n",
    " * Aprendizado de novas ferramentas científicas e computacionais necessárias ao domínio do problema\n",
    " * Trabalhar a transdisciplinaridade\n",
    " * *Storytelling*\n",
    " * *Literate Programming* em *notebooks Jupyter*\n",
    "\n",
    "Além disso, dada a disseminação das ferramentas de análise de dados e computação na pesquisa em saúde pública no contexto atual, os passos dados aqui são os primeiros que normalmente são realizados para obter uma visão geral da genética do vírus, durante a fase de planejamento estratégico de produtos e sistemas biotecnológicos."
   ]
  },
  {
   "cell_type": "markdown",
   "id": "recreational-stability",
   "metadata": {},
   "source": [
    "## 2. Coleta e Tratamento de Dados\n",
    "\n",
    "Os dados obtidos estão em formato de texto, com armazenamento de sequências genéticas denominado **.fasta**. É possível armazenar cadeias de DNA, RNA e polipeptídeos nesse formato. cada nucleotídeo ou aminoácido é representado por uma letra, os metadados ficam na primeira linha do arquivo e cada sequência é uma cadeia de caracteres (PEARSON, 1988):\n",
    "\n",
    "~~~\n",
    ">MN908947.3:1-29903 Severe acute respiratory syndrome coronavirus 2 isolate Wuhan-Hu-1, complete genome\n",
    "ATTAAAGGTTTATACCTTCCCAGGTAACAAACCAACCAACTTTCGATCTCTTGTAGATCTGTTCTCTAAA\n",
    "~~~\n",
    "Cada base nitrogenada é representada por uma letra:\n",
    " * **A** - Adenina\n",
    " * **T** - Timina\n",
    " * **G** - Guanina\n",
    " * **C** - Citosina\n",
    " * **U** - Uracila\n",
    " \n",
    " As cadeias podem ser realmente longas. O genoma humano possui 3.200.000.000 pares de bases nitrogenadas. A fonte dos dados da variante 20J/501Y.V3 é do estudo realizado em Manaus (FARIA, 2021) e a variante de Wuhan foi obtida da publicação de (LU, 2020)."
   ]
  },
  {
   "cell_type": "code",
   "execution_count": 25,
   "id": "amended-america",
   "metadata": {},
   "outputs": [],
   "source": [
    "# BIBLIOTECAS IMPORTADAS\n",
    "import Bio\n",
    "# import heapq\n",
    "import pylab\n",
    "import urllib\n",
    "import pandas as pd\n",
    "import nglview as nv\n",
    "import dill\n",
    "\n",
    "from Bio.Seq import Seq\n",
    "from Bio.Blast import NCBIWWW\n",
    "#from Bio.Alphabet import IUPAC\n",
    "from collections import Counter\n",
    "from Bio.Data import CodonTable\n",
    "from Bio import SeqIO, SearchIO\n",
    "from Bio.PDB import PDBParser,MMCIFParser\n",
    "from Bio.SeqUtils import GC,molecular_weight\n",
    "# from dna_features_viewer import GraphicFeature, GraphicRecord\n",
    "#from Bio.Alphabet import generic_dna,generic_rna,generic_protein"
   ]
  },
  {
   "cell_type": "markdown",
   "id": "strategic-ribbon",
   "metadata": {},
   "source": [
    "A sequência de Wuhan foi baixada do banco de dados do NCBI (PRUTT, 2005), e não precisou de tratamento algum para ser utilizado. Abaixo segue as operações de limpeza de dados realizada no genoma de Manaus:\n",
    "\n",
    " * Um arquivo **.fasta** pode ter várias sequências, mas em nosso caso, só são necessárias as duas primeiras linhas, que correspondem à primeira sequência de RNA, então, foi realizado um filtro com o editor de fluxo de Shell Unix **sed**\n",
    " * Conversão dos códigos das bases para maiúsculas.\n",
    " * Conversão de bases desconhecidas para o código N, (a**N**y, bases não mapeadas que podem sem qualquer uma das 4 disponíveis para RNA.)"
   ]
  },
  {
   "cell_type": "code",
   "execution_count": null,
   "id": "numerous-sponsorship",
   "metadata": {},
   "outputs": [],
   "source": [
    "! sed 2q data/CADDE_B.1.1.28_P1.fasta >> data/manaus.fasta\n",
    "! sed -i '2s/^.*$/\\U&/' data/manaus.fasta\n",
    "! sed -i '2s/\\-/N/g' data/manaus.fasta"
   ]
  },
  {
   "cell_type": "markdown",
   "id": "supreme-clark",
   "metadata": {},
   "source": [
    "## 3. Análise e Exploração de Dados\n",
    "\n",
    "### 3.1 Algumas características básicas das sequências foram obtidas, como tamanho, peso molecular, quantidade de sequências **AGA** e seus complementos:"
   ]
  },
  {
   "cell_type": "code",
   "execution_count": 2,
   "id": "nonprofit-maker",
   "metadata": {},
   "outputs": [
    {
     "name": "stdout",
     "output_type": "stream",
     "text": [
      "ID: P1_CADDE-CD1716_hCoV-19/Brazil/L70_CD1716/2020|Brazil_AM_Manaus|2020-12-16\n",
      "Name: P1_CADDE-CD1716_hCoV-19/Brazil/L70_CD1716/2020|Brazil_AM_Manaus|2020-12-16\n",
      "Description: P1_CADDE-CD1716_hCoV-19/Brazil/L70_CD1716/2020|Brazil_AM_Manaus|2020-12-16\n",
      "Number of features: 0\n",
      "Seq('AGATCTGTTCTCTAAACGAACTTTAAAATCTGTGTGGCTGTCACTCGGCTGCAT...AAT')\n"
     ]
    }
   ],
   "source": [
    "# Parsing da sequência de Manaus:\n",
    "for recordm in SeqIO.parse(\"data/manaus.fasta\",\"fasta\"):\n",
    "    print(recordm)"
   ]
  },
  {
   "cell_type": "code",
   "execution_count": 3,
   "id": "communist-sydney",
   "metadata": {},
   "outputs": [
    {
     "name": "stdout",
     "output_type": "stream",
     "text": [
      "ID: LR757998.1\n",
      "Name: LR757998.1\n",
      "Description: LR757998.1 Severe acute respiratory syndrome coronavirus 2 genome assembly, chromosome: whole_genome\n",
      "Number of features: 0\n",
      "Seq('AACAAACCAACCAACTTTCGATCTCTTGTAGATCTGTTCTCTAAACGAACTTTA...AAA')\n"
     ]
    }
   ],
   "source": [
    "# Parsing da sequência de Wuhan:\n",
    "for recordw in SeqIO.parse(\"data/wuhan.fasta\",\"fasta\"):\n",
    "    print(recordw)"
   ]
  },
  {
   "cell_type": "code",
   "execution_count": 4,
   "id": "relative-chase",
   "metadata": {},
   "outputs": [
    {
     "name": "stdout",
     "output_type": "stream",
     "text": [
      "Manaus:  29615\n",
      "Wuhan:  29866\n"
     ]
    }
   ],
   "source": [
    "#Comprimento das sequências\n",
    "sequencia_manaus = recordm.seq\n",
    "sequencia_wuhan = recordw.seq\n",
    "print('Manaus: ', len(sequencia_manaus))\n",
    "print('Wuhan: ',len(sequencia_wuhan))"
   ]
  },
  {
   "cell_type": "code",
   "execution_count": 5,
   "id": "innovative-mayor",
   "metadata": {},
   "outputs": [
    {
     "name": "stdout",
     "output_type": "stream",
     "text": [
      "Wuhan:  9229800.85750042\n"
     ]
    }
   ],
   "source": [
    "#Peso molecular:\n",
    "#print('Manaus: ', molecular_weight(sequencia_manaus))\n",
    "print('Wuhan: ',molecular_weight(sequencia_wuhan))"
   ]
  },
  {
   "cell_type": "code",
   "execution_count": 6,
   "id": "starting-declaration",
   "metadata": {},
   "outputs": [
    {
     "name": "stdout",
     "output_type": "stream",
     "text": [
      "Manaus:  36.31605605267601\n",
      "Wuhan:  37.98633898078082\n"
     ]
    }
   ],
   "source": [
    "#Estabilidade do nucleotídeo através do conteúdo GC:\n",
    "gcm = (sequencia_manaus.count('G') + sequencia_manaus.count('C'))/(len(sequencia_manaus)) * 100\n",
    "gcw = (sequencia_wuhan.count('G') + sequencia_wuhan.count('C'))/(len(sequencia_wuhan)) * 100\n",
    "print('Manaus: ', gcm)\n",
    "print('Wuhan: ', gcw)"
   ]
  },
  {
   "cell_type": "markdown",
   "id": "threaded-amber",
   "metadata": {},
   "source": [
    "### 3.2 Análise do conteúdo proteico:\n",
    "\n",
    "Para esa seção, foi utilizado o genoma do vírus de Wuhan, porque possui mapeamento genético completo:"
   ]
  },
  {
   "cell_type": "code",
   "execution_count": 7,
   "id": "failing-arizona",
   "metadata": {},
   "outputs": [],
   "source": [
    "#Transcrição do vírus em RNA mensageiro:\n",
    "mRNA_wuhan = sequencia_wuhan.transcribe()\n",
    "mRNA_manaus = sequencia_manaus.transcribe()"
   ]
  },
  {
   "cell_type": "code",
   "execution_count": 8,
   "id": "acute-bicycle",
   "metadata": {},
   "outputs": [
    {
     "name": "stderr",
     "output_type": "stream",
     "text": [
      "/home/rafael/.virtualenvs/pos_proteina/lib/python3.8/site-packages/Bio/Seq.py:2334: BiopythonWarning: Partial codon, len(sequence) not a multiple of three. Explicitly trim the sequence or add trailing N before translation. This may become an error in future.\n",
      "  warnings.warn(\n"
     ]
    }
   ],
   "source": [
    "#Tradução do RNA mensageiro em proteínas:\n",
    "protein_seq_wuhan = sequencia_wuhan.translate()\n",
    "protein_seq_manaus = sequencia_manaus.translate()"
   ]
  },
  {
   "cell_type": "code",
   "execution_count": 9,
   "id": "presidential-partition",
   "metadata": {},
   "outputs": [
    {
     "name": "stdout",
     "output_type": "stream",
     "text": [
      "Table 1 Standard, SGC0\n",
      "\n",
      "  |  T      |  C      |  A      |  G      |\n",
      "--+---------+---------+---------+---------+--\n",
      "T | TTT F   | TCT S   | TAT Y   | TGT C   | T\n",
      "T | TTC F   | TCC S   | TAC Y   | TGC C   | C\n",
      "T | TTA L   | TCA S   | TAA Stop| TGA Stop| A\n",
      "T | TTG L(s)| TCG S   | TAG Stop| TGG W   | G\n",
      "--+---------+---------+---------+---------+--\n",
      "C | CTT L   | CCT P   | CAT H   | CGT R   | T\n",
      "C | CTC L   | CCC P   | CAC H   | CGC R   | C\n",
      "C | CTA L   | CCA P   | CAA Q   | CGA R   | A\n",
      "C | CTG L(s)| CCG P   | CAG Q   | CGG R   | G\n",
      "--+---------+---------+---------+---------+--\n",
      "A | ATT I   | ACT T   | AAT N   | AGT S   | T\n",
      "A | ATC I   | ACC T   | AAC N   | AGC S   | C\n",
      "A | ATA I   | ACA T   | AAA K   | AGA R   | A\n",
      "A | ATG M(s)| ACG T   | AAG K   | AGG R   | G\n",
      "--+---------+---------+---------+---------+--\n",
      "G | GTT V   | GCT A   | GAT D   | GGT G   | T\n",
      "G | GTC V   | GCC A   | GAC D   | GGC G   | C\n",
      "G | GTA V   | GCA A   | GAA E   | GGA G   | A\n",
      "G | GTG V   | GCG A   | GAG E   | GGG G   | G\n",
      "--+---------+---------+---------+---------+--\n"
     ]
    }
   ],
   "source": [
    "#Impressão da tabela de códons\n",
    "print(CodonTable.unambiguous_dna_by_id[1])"
   ]
  },
  {
   "cell_type": "code",
   "execution_count": 10,
   "id": "binding-compensation",
   "metadata": {},
   "outputs": [
    {
     "data": {
      "text/plain": [
       "<function matplotlib.pyplot.plot(*args, scalex=True, scaley=True, data=None, **kwargs)>"
      ]
     },
     "execution_count": 10,
     "metadata": {},
     "output_type": "execute_result"
    },
    {
     "data": {
      "image/png": "[encoded data removed]",
      "text/plain": [
       "<Figure size 432x288 with 1 Axes>"
      ]
     },
     "metadata": {
      "needs_background": "light"
     },
     "output_type": "display_data"
    }
   ],
   "source": [
    "#Aminoácidos mais comuns da variante de Wuhan:\n",
    "common_amino_w = Counter(protein_seq_wuhan)\n",
    "common_amino_m = Counter(protein_seq_manaus)\n",
    "common_amino_w.most_common(10)\n",
    "del common_amino_w['*']\n",
    "pylab.bar(common_amino_w.keys(),common_amino_w.values())\n",
    "pylab.title(\"%i Aminoácidos \\n frequência %i a %i\" \n",
    "            % (len(common_amino_w.values()), \n",
    "               min(common_amino_w.values()), \n",
    "               max(common_amino_w.values())))\n",
    "pylab.xlabel(\"Aminoácidos\")\n",
    "pylab.ylabel(\"Frequência\")\n",
    "pylab.plot"
   ]
  },
  {
   "cell_type": "code",
   "execution_count": 11,
   "id": "portable-bowling",
   "metadata": {},
   "outputs": [
    {
     "data": {
      "text/html": [
       "<div>\n",
       "<style scoped>\n",
       "    .dataframe tbody tr th:only-of-type {\n",
       "        vertical-align: middle;\n",
       "    }\n",
       "\n",
       "    .dataframe tbody tr th {\n",
       "        vertical-align: top;\n",
       "    }\n",
       "\n",
       "    .dataframe thead th {\n",
       "        text-align: right;\n",
       "    }\n",
       "</style>\n",
       "<table border=\"1\" class=\"dataframe\">\n",
       "  <thead>\n",
       "    <tr style=\"text-align: right;\">\n",
       "      <th></th>\n",
       "      <th>protein_seq_wuhan</th>\n",
       "      <th>length</th>\n",
       "    </tr>\n",
       "  </thead>\n",
       "  <tbody>\n",
       "    <tr>\n",
       "      <th>3</th>\n",
       "      <td>PKGKMESLVPGFNEKTHVQLSLPVLQVRDVLVRGFGDSVEEVLSEA...</td>\n",
       "      <td>4409</td>\n",
       "    </tr>\n",
       "    <tr>\n",
       "      <th>175</th>\n",
       "      <td>LEKTTELLFLVMFLLTTKRTMFVFLVLLPLVSSQCVNLTTRTQLPP...</td>\n",
       "      <td>1293</td>\n",
       "    </tr>\n",
       "    <tr>\n",
       "      <th>248</th>\n",
       "      <td>RSCCFRFHLNEQTKMSDNGPQNQRNAPRITFGGPSDSTGSNQNGER...</td>\n",
       "      <td>433</td>\n",
       "    </tr>\n",
       "    <tr>\n",
       "      <th>47</th>\n",
       "      <td>VKWSCVAVHYMLNQVEPHQEMPQLLMLIVFLTFVKLSRPMLMHFYL...</td>\n",
       "      <td>78</td>\n",
       "    </tr>\n",
       "    <tr>\n",
       "      <th>204</th>\n",
       "      <td>VNFPLAVMASNFSLFCACCCLQNKLDHRWNCYRNGLSCRLDVAQLL...</td>\n",
       "      <td>66</td>\n",
       "    </tr>\n",
       "    <tr>\n",
       "      <th>68</th>\n",
       "      <td>LTPVLKDSSFLQQKRSKLLRRHLNCLMVLLLYVKCCLTENYIFHGK...</td>\n",
       "      <td>64</td>\n",
       "    </tr>\n",
       "    <tr>\n",
       "      <th>120</th>\n",
       "      <td>KNYSILMPHILTNSQMVYAYFGIAMSIDILLIPLFVDLTLECYLTL...</td>\n",
       "      <td>57</td>\n",
       "    </tr>\n",
       "    <tr>\n",
       "      <th>75</th>\n",
       "      <td>CHKSTMLELLAYTQHSISQMSFLAMLQIIKRLVCKSILHSRDHLVL...</td>\n",
       "      <td>54</td>\n",
       "    </tr>\n",
       "    <tr>\n",
       "      <th>67</th>\n",
       "      <td>AIIVNHINHPLVFHCVLMDKFLVYIKIHVLVAIMLLTLMQLQHVTG...</td>\n",
       "      <td>53</td>\n",
       "    </tr>\n",
       "    <tr>\n",
       "      <th>164</th>\n",
       "      <td>LVIVQLYIQLINGISLLVICTTLRLKMLQKKMTLKRVFSLTFVGLYNKS</td>\n",
       "      <td>49</td>\n",
       "    </tr>\n",
       "  </tbody>\n",
       "</table>\n",
       "</div>"
      ],
      "text/plain": [
       "                                     protein_seq_wuhan  length\n",
       "3    PKGKMESLVPGFNEKTHVQLSLPVLQVRDVLVRGFGDSVEEVLSEA...    4409\n",
       "175  LEKTTELLFLVMFLLTTKRTMFVFLVLLPLVSSQCVNLTTRTQLPP...    1293\n",
       "248  RSCCFRFHLNEQTKMSDNGPQNQRNAPRITFGGPSDSTGSNQNGER...     433\n",
       "47   VKWSCVAVHYMLNQVEPHQEMPQLLMLIVFLTFVKLSRPMLMHFYL...      78\n",
       "204  VNFPLAVMASNFSLFCACCCLQNKLDHRWNCYRNGLSCRLDVAQLL...      66\n",
       "68   LTPVLKDSSFLQQKRSKLLRRHLNCLMVLLLYVKCCLTENYIFHGK...      64\n",
       "120  KNYSILMPHILTNSQMVYAYFGIAMSIDILLIPLFVDLTLECYLTL...      57\n",
       "75   CHKSTMLELLAYTQHSISQMSFLAMLQIIKRLVCKSILHSRDHLVL...      54\n",
       "67   AIIVNHINHPLVFHCVLMDKFLVYIKIHVLVAIMLLTLMQLQHVTG...      53\n",
       "164  LVIVQLYIQLINGISLLVICTTLRLKMLQKKMTLKRVFSLTFVGLYNKS      49"
      ]
     },
     "execution_count": 11,
     "metadata": {},
     "output_type": "execute_result"
    }
   ],
   "source": [
    "#Criação de um Dataframe com as proteínas:\n",
    "protein_list_wuhan = [str(i) for i in protein_seq_wuhan.split('*')]\n",
    "protein_list_manaus = [str(i) for i in protein_seq_manaus.split('*')]\n",
    "df_w = pd.DataFrame({'protein_seq_wuhan':protein_list_wuhan})\n",
    "df_m = pd.DataFrame({'protein_seq_manaus':protein_list_manaus})\n",
    "df_w['length'] = df_w['protein_seq_wuhan'].apply(len)\n",
    "df_m['length'] = df_m['protein_seq_manaus'].apply(len)\n",
    "df_w.sort_values(by = ['length'], ascending = False)[:10]"
   ]
  },
  {
   "cell_type": "code",
   "execution_count": 12,
   "id": "passive-mentor",
   "metadata": {},
   "outputs": [],
   "source": [
    "#Buscar a protéina mais longa:\n",
    "\n",
    "proteina_maior_w = df_w.nlargest(1,'length')\n",
    "prot_w = proteina_maior_w.iloc[0,0]\n",
    "with open(\"data/prot_w.fasta\",\"w\") as file:\n",
    "    file.write(\">largest_seq_w \\n\"+prot_w)"
   ]
  },
  {
   "cell_type": "code",
   "execution_count": 13,
   "id": "identical-configuration",
   "metadata": {},
   "outputs": [],
   "source": [
    "proteina_maior_m = df_m.nlargest(1,'length')\n",
    "prot_m = proteina_maior_m.iloc[0,0]\n",
    "with open(\"data/prot_m.fasta\",\"w\") as file:\n",
    "    file.write(\">largest_seq_m \\n\"+prot_m)"
   ]
  },
  {
   "cell_type": "markdown",
   "id": "facial-reflection",
   "metadata": {},
   "source": [
    " ### 3.3 Alinhamento de sequências utilizando o Algoritmo BLAST\n",
    " \n",
    "O Algoritmo BLAST (ALTSCHUL, 1990) busca regiões de similaridade entre sequências biológicas. O programa compara sequências de nucleotídeos ou proteínas a bancos de dados de sequências e calcula a significância estatística de similaridade."
   ]
  },
  {
   "cell_type": "code",
   "execution_count": 14,
   "id": "elegant-planet",
   "metadata": {},
   "outputs": [],
   "source": [
    "seq_prot_w = SeqIO.read(\"data/prot_w.fasta\", \"fasta\")\n",
    "seq_prot_m = SeqIO.read(\"data/prot_m.fasta\", \"fasta\")"
   ]
  },
  {
   "cell_type": "code",
   "execution_count": 15,
   "id": "parental-crime",
   "metadata": {},
   "outputs": [
    {
     "name": "stdout",
     "output_type": "stream",
     "text": [
      "CPU times: user 52.8 ms, sys: 10.8 ms, total: 63.5 ms\n",
      "Wall time: 3min 4s\n"
     ]
    }
   ],
   "source": [
    "%%time\n",
    "\n",
    "# 2 a 3 minutos\n",
    "\n",
    "result_handle_w = NCBIWWW.qblast(\"blastp\",\"pdb\",seq_prot_w.seq)\n",
    "blast_qresult_w = SearchIO.read(result_handle_w, \"blast-xml\")"
   ]
  },
  {
   "cell_type": "code",
   "execution_count": 16,
   "id": "ideal-affiliate",
   "metadata": {},
   "outputs": [
    {
     "name": "stdout",
     "output_type": "stream",
     "text": [
      "CPU times: user 73.2 ms, sys: 63.9 ms, total: 137 ms\n",
      "Wall time: 1min 39s\n"
     ]
    }
   ],
   "source": [
    "%%time\n",
    "\n",
    "# 2 a 3 minutos\n",
    "\n",
    "result_handle_m = NCBIWWW.qblast(\"blastp\",\"pdb\",seq_prot_m.seq)\n",
    "blast_qresult_m = SearchIO.read(result_handle_m, \"blast-xml\")"
   ]
  },
  {
   "cell_type": "code",
   "execution_count": 17,
   "id": "collaborative-plate",
   "metadata": {},
   "outputs": [
    {
     "name": "stdout",
     "output_type": "stream",
     "text": [
      "Program: blastp (2.11.0+)\n",
      "  Query: unnamed (4409)\n",
      "         protein product\n",
      " Target: pdb\n",
      "   Hits: ----  -----  ----------------------------------------------------------\n",
      "            #  # HSP  ID + description\n",
      "         ----  -----  ----------------------------------------------------------\n",
      "            0      1  pdb|6WUU|A  Chain A, Non-structural protein 3 [Severe a...\n",
      "            1      1  pdb|7CMD|A  Chain A, Non-structural protein 3 [Severe a...\n",
      "            2      1  pdb|7CJD|A  Chain A, Non-structural protein 3 [Severe a...\n",
      "            3      1  pdb|6XAA|A  Chain A, Non-structural protein 3 [Severe a...\n",
      "            4      1  pdb|6XA9|A  Chain A, Non-structural protein 3 [Severe a...\n"
     ]
    }
   ],
   "source": [
    "print(blast_qresult_w[0:5])"
   ]
  },
  {
   "cell_type": "code",
   "execution_count": 18,
   "id": "attractive-occasion",
   "metadata": {},
   "outputs": [
    {
     "name": "stdout",
     "output_type": "stream",
     "text": [
      "Program: blastp (2.11.0+)\n",
      "  Query: unnamed (2701)\n",
      "         protein product\n",
      " Target: pdb\n",
      "   Hits: ----  -----  ----------------------------------------------------------\n",
      "            #  # HSP  ID + description\n",
      "         ----  -----  ----------------------------------------------------------\n",
      "            0      1  pdb|6YYT|A  Structure of replicating SARS-CoV-2 polymer...\n",
      "            1      1  pdb|7D4F|A  Chain A, RNA-directed RNA polymerase [Sever...\n",
      "            2      1  pdb|6XEZ|A  Chain A, RNA-directed RNA polymerase [Sever...\n",
      "            3      1  pdb|6XQB|A  Chain A, RNA-directed RNA polymerase [Sever...\n",
      "            4      1  pdb|7C2K|A  Chain A, RNA-directed RNA polymerase [Sever...\n"
     ]
    }
   ],
   "source": [
    "print(blast_qresult_m[0:5])"
   ]
  },
  {
   "cell_type": "code",
   "execution_count": 19,
   "id": "broadband-progressive",
   "metadata": {},
   "outputs": [
    {
     "name": "stdout",
     "output_type": "stream",
     "text": [
      "Sequence ID:pdb|6WUU|A\n",
      "description:Chain A, Non-structural protein 3 [Severe acute respiratory syndrome coronavirus 2]\n",
      "E value:    0.0 \n",
      "Bit Score:  674.855\n",
      "\n",
      "Sequence ID:pdb|6YYT|A\n",
      "description:Structure of replicating SARS-CoV-2 polymerase [Severe acute respiratory syndrome coronavirus 2]\n",
      "E value:    0.0 \n",
      "Bit Score:  1934.46\n",
      "\n"
     ]
    }
   ],
   "source": [
    "seqid_w = blast_qresult_w[0]\n",
    "seqid_m = blast_qresult_m[0]\n",
    "\n",
    "details_w = seqid_w[0]\n",
    "details_m = seqid_m[0]\n",
    "\n",
    "print(f\"\\\n",
    "Sequence ID:{seqid_w.id}\\n\\\n",
    "description:{seqid_w.description}\\n\\\n",
    "E value:    {details_w.evalue} \\n\\\n",
    "Bit Score:  {details_w.bitscore}\\n\\\n",
    "\")\n",
    "\n",
    "print(f\"\\\n",
    "Sequence ID:{seqid_m.id}\\n\\\n",
    "description:{seqid_m.description}\\n\\\n",
    "E value:    {details_m.evalue} \\n\\\n",
    "Bit Score:  {details_m.bitscore}\\n\\\n",
    "\")"
   ]
  },
  {
   "cell_type": "code",
   "execution_count": 20,
   "id": "weighted-vision",
   "metadata": {},
   "outputs": [
    {
     "name": "stdout",
     "output_type": "stream",
     "text": [
      "alignment:\n",
      "Alignment with 2 rows and 321 columns\n",
      "LREVRTIKVFTTVDNINLHTQVVDMSMTYGQQFGPTYLDGADVT...VTY unnamed\n",
      "MREVRTIKVFTTVDNINLHTQVVDMSMTYGQQFGPTYLDGADVT...LEH pdb|6WUU|A\n",
      "alignment:\n",
      "Alignment with 2 rows and 925 columns\n",
      "FKRVCGVSAARLTPCGTGTSTDVVYRAFDIYNDKVAGFAKFLKT...VLQ unnamed\n",
      "LNRVCGVSAARLTPCGTGTSTDVVYRAFDIYNDKVAGFAKFLKT...VLQ pdb|6YYT|A\n"
     ]
    }
   ],
   "source": [
    "print(f\"alignment:\\n{details_w.aln}\")\n",
    "print(f\"alignment:\\n{details_m.aln}\")"
   ]
  },
  {
   "cell_type": "markdown",
   "id": "antique-richardson",
   "metadata": {},
   "source": [
    "### 3.4 Visualizando a estrutura da proteína"
   ]
  },
  {
   "cell_type": "code",
   "execution_count": 21,
   "id": "closing-huntington",
   "metadata": {},
   "outputs": [
    {
     "data": {
      "text/plain": [
       "('data/6YYT.pdb', <http.client.HTTPMessage at 0x7f15cd646d00>)"
      ]
     },
     "execution_count": 21,
     "metadata": {},
     "output_type": "execute_result"
    }
   ],
   "source": [
    "seqid_w.id\n",
    "seqid_w.id.split('|')[1]\n",
    "urllib.request.urlretrieve('https://files.rcsb.org/download/6WUU.pdb','data/6WUU.pdb')\n",
    "seqid_m.id\n",
    "seqid_m.id.split('|')[1]\n",
    "urllib.request.urlretrieve('https://files.rcsb.org/download/6YYT.pdb','data/6YYT.pdb')"
   ]
  },
  {
   "cell_type": "code",
   "execution_count": 26,
   "id": "accurate-equity",
   "metadata": {},
   "outputs": [],
   "source": [
    "parser = PDBParser()"
   ]
  },
  {
   "cell_type": "code",
   "execution_count": 27,
   "id": "popular-pricing",
   "metadata": {
    "scrolled": true
   },
   "outputs": [
    {
     "name": "stderr",
     "output_type": "stream",
     "text": [
      "/home/rafael/.virtualenvs/pos_proteina/lib/python3.8/site-packages/Bio/PDB/StructureBuilder.py:89: PDBConstructionWarning: WARNING: Chain A is discontinuous at line 21473.\n",
      "  warnings.warn(\n",
      "/home/rafael/.virtualenvs/pos_proteina/lib/python3.8/site-packages/Bio/PDB/StructureBuilder.py:89: PDBConstructionWarning: WARNING: Chain B is discontinuous at line 21474.\n",
      "  warnings.warn(\n",
      "/home/rafael/.virtualenvs/pos_proteina/lib/python3.8/site-packages/Bio/PDB/StructureBuilder.py:89: PDBConstructionWarning: WARNING: Chain C is discontinuous at line 21476.\n",
      "  warnings.warn(\n",
      "/home/rafael/.virtualenvs/pos_proteina/lib/python3.8/site-packages/Bio/PDB/StructureBuilder.py:89: PDBConstructionWarning: WARNING: Chain D is discontinuous at line 21478.\n",
      "  warnings.warn(\n",
      "/home/rafael/.virtualenvs/pos_proteina/lib/python3.8/site-packages/Bio/PDB/StructureBuilder.py:89: PDBConstructionWarning: WARNING: Chain A is discontinuous at line 21481.\n",
      "  warnings.warn(\n",
      "/home/rafael/.virtualenvs/pos_proteina/lib/python3.8/site-packages/Bio/PDB/StructureBuilder.py:89: PDBConstructionWarning: WARNING: Chain B is discontinuous at line 21484.\n",
      "  warnings.warn(\n",
      "/home/rafael/.virtualenvs/pos_proteina/lib/python3.8/site-packages/Bio/PDB/StructureBuilder.py:89: PDBConstructionWarning: WARNING: Chain C is discontinuous at line 21493.\n",
      "  warnings.warn(\n",
      "/home/rafael/.virtualenvs/pos_proteina/lib/python3.8/site-packages/Bio/PDB/StructureBuilder.py:89: PDBConstructionWarning: WARNING: Chain D is discontinuous at line 21494.\n",
      "  warnings.warn(\n",
      "/home/rafael/.virtualenvs/pos_proteina/lib/python3.8/site-packages/Bio/PDB/StructureBuilder.py:89: PDBConstructionWarning: WARNING: Chain A is discontinuous at line 12059.\n",
      "  warnings.warn(\n"
     ]
    }
   ],
   "source": [
    "structure_w = parser.get_structure(\"6WUU\",\"data/6WUU.pdb\")\n",
    "structure_m = parser.get_structure(\"6YYT\",\"data/6YYT.pdb\")"
   ]
  },
  {
   "cell_type": "code",
   "execution_count": 28,
   "id": "upset-tonight",
   "metadata": {},
   "outputs": [
    {
     "name": "stdout",
     "output_type": "stream",
     "text": [
      "chainid: A\n",
      "chainid: B\n",
      "chainid: C\n",
      "chainid: D\n",
      "chainid: P\n",
      "chainid: Q\n",
      "chainid: T\n",
      "chainid: U\n"
     ]
    }
   ],
   "source": [
    "for chain in structure_m[0]:\n",
    "    print(f\"chainid: {chain.id}\")"
   ]
  },
  {
   "cell_type": "code",
   "execution_count": 29,
   "id": "humanitarian-bangladesh",
   "metadata": {},
   "outputs": [
    {
     "name": "stdout",
     "output_type": "stream",
     "text": [
      "chainid: A\n",
      "chainid: B\n",
      "chainid: C\n",
      "chainid: D\n",
      "chainid: G\n",
      "chainid: H\n",
      "chainid: I\n",
      "chainid: J\n"
     ]
    }
   ],
   "source": [
    "for chain in structure_w[0]:\n",
    "    print(f\"chainid: {chain.id}\")"
   ]
  },
  {
   "cell_type": "code",
   "execution_count": 27,
   "id": "secret-slave",
   "metadata": {},
   "outputs": [],
   "source": [
    "dill.dump_session('data/notebook_session.db')"
   ]
  },
  {
   "cell_type": "code",
   "execution_count": 30,
   "id": "internal-archive",
   "metadata": {},
   "outputs": [],
   "source": [
    "dill.load_session('data/notebook_session.db')"
   ]
  },
  {
   "cell_type": "markdown",
   "id": "inappropriate-roman",
   "metadata": {},
   "source": []
  },
  {
   "cell_type": "code",
   "execution_count": 10,
   "id": "known-thompson",
   "metadata": {},
   "outputs": [
    {
     "data": {
      "application/vnd.jupyter.widget-view+json": {
       "model_id": "39cdabbd07324dcca71f4532709d5028",
       "version_major": 2,
       "version_minor": 0
      },
      "text/plain": [
       "NGLWidget()"
      ]
     },
     "metadata": {},
     "output_type": "display_data"
    }
   ],
   "source": [
    "nv.demo()"
   ]
  },
  {
   "cell_type": "code",
   "execution_count": 31,
   "id": "considerable-tongue",
   "metadata": {},
   "outputs": [
    {
     "data": {
      "application/vnd.jupyter.widget-view+json": {
       "model_id": "e37a40a3079d41af9d2eee2f42c1df88",
       "version_major": 2,
       "version_minor": 0
      },
      "text/plain": [
       "NGLWidget()"
      ]
     },
     "metadata": {},
     "output_type": "display_data"
    }
   ],
   "source": [
    "view_w = nv.show_biopython(structure_w)\n",
    "view_w"
   ]
  },
  {
   "cell_type": "code",
   "execution_count": 32,
   "id": "typical-business",
   "metadata": {
    "scrolled": true
   },
   "outputs": [
    {
     "data": {
      "application/vnd.jupyter.widget-view+json": {
       "model_id": "35fc6f9df88c44ad9c94fc63610fa3de",
       "version_major": 2,
       "version_minor": 0
      },
      "text/plain": [
       "Image(value=b'', width='99%')"
      ]
     },
     "metadata": {},
     "output_type": "display_data"
    }
   ],
   "source": [
    "view_w.render_image()"
   ]
  },
  {
   "cell_type": "code",
   "execution_count": 33,
   "id": "extra-pledge",
   "metadata": {},
   "outputs": [
    {
     "data": {
      "application/vnd.jupyter.widget-view+json": {
       "model_id": "2a1104397db14a539a3a2dbc3fc97867",
       "version_major": 2,
       "version_minor": 0
      },
      "text/plain": [
       "NGLWidget()"
      ]
     },
     "metadata": {},
     "output_type": "display_data"
    }
   ],
   "source": [
    "view_m = nv.show_biopython(structure_m)\n",
    "view_m"
   ]
  },
  {
   "cell_type": "code",
   "execution_count": 34,
   "id": "ignored-producer",
   "metadata": {},
   "outputs": [
    {
     "data": {
      "application/vnd.jupyter.widget-view+json": {
       "model_id": "4213ac903d724cb285c1877c4f893e4e",
       "version_major": 2,
       "version_minor": 0
      },
      "text/plain": [
       "Image(value=b'', width='99%')"
      ]
     },
     "metadata": {},
     "output_type": "display_data"
    }
   ],
   "source": [
    "view_m.render_image()"
   ]
  },
  {
   "cell_type": "markdown",
   "id": "organized-fairy",
   "metadata": {},
   "source": [
    "## 4. Referências\n",
    "\n",
    "ALTSCHUL, Stephen F. et al. Basic local alignment search tool. Journal of molecular biology, v. 215, n. 3, p. 403-410, 1990.\n",
    "\n",
    "COCK, P. J., ANTAO, T., CHANG, J. T., CHAPMAN, B. A., COX, C. J., DALKE, A., … others. (2009). Biopython: freely available Python tools for computational molecular biology and bioinformatics. *Bioinformatics*, 25(11), 1422–1423.\n",
    "\n",
    "CLEM, Angela S. Fundamentals of vaccine immunology. *Journal of global infectious diseases*, v. 3, n. 1, p. 73, 2011.\n",
    "\n",
    "FARIA, Nuno R. et al. Genomics and epidemiology of a novel SARS-CoV-2 lineage in Manaus, Brazil. *medRxiv*, 2021.\n",
    "\n",
    "FIELDS, Bernard N. et al. Fundamental virology. Philadelphia ePA PA: Lippincott-Raven, 1996.\n",
    "\n",
    "EUROPEAN CENTRE FOR DISEASE PREVENTION AND CONTROL (União Européia). Disease background of 2019-nCoV. In: Disease background of 2019-nCoV. [S. l.], 11 fev. 2020. Disponível em: https://www.ecdc.europa.eu/en/2019-ncov-background-disease. Acesso em: 17 maio 2020.\n",
    "\n",
    "HADFIELD, J. et al. Genomic epidemiology of novel coronavirus: global subsampling. Nextstrain: real-time tracking of pathogen evolution, 2021.\n",
    "\n",
    "LU, Roujian et al. Genomic characterisation and epidemiology of 2019 novel coronavirus: implications for virus origins and receptor binding. *The lancet*, v. 395, n. 10224, p. 565-574, 2020.\n",
    "\n",
    "PEARSON, William R.; LIPMAN, David J. Improved tools for biological sequence comparison. *Proceedings of the National Academy of Sciences*, v. 85, n. 8, p. 2444-2448, 1988.\n",
    "\n",
    "PRUITT, Kim D.; TATUSOVA, Tatiana; MAGLOTT, Donna R. NCBI Reference Sequence (RefSeq): a curated non-redundant sequence database of genomes, transcripts and proteins. *Nucleic acids research*, v. 33, n. suppl_1, p. D501-D504, 2005.\n",
    "\n",
    "REECE, Jane B. et al. Biologia de Campbell. Artmed Editora, 2019.\n",
    "\n",
    "VARIANTE brasileira já responde por 64,4% dos casos de Covid-19 na cidade de São Paulo. *O Globo*, 26 de março de 2021. Seção Sociedade. Disponível em: <https://oglobo.globo.com/sociedade/coronavirus/variante-brasileira-ja-responde-por-644-dos-casos-de-covid-19-na-cidade-de-sao-paulo-24942787>. Acesso em: 29 de março de 2021\n",
    "\n",
    "https://virological.org/t/genomic-characterisation-of-an-emergent-sars-cov-2-lineage-in-manaus-preliminary-findings/586/2\n",
    "\n",
    "http://bioemfoco.com.br/noticia/ace2-proteina-que-facilita-entrada-do-sars-cov-2-no-organismo/"
   ]
  }
 ],
 "metadata": {
  "kernelspec": {
   "display_name": "Python 3",
   "language": "python",
   "name": "python3"
  },
  "language_info": {
   "codemirror_mode": {
    "name": "ipython",
    "version": 3
   },
   "file_extension": ".py",
   "mimetype": "text/x-python",
   "name": "python",
   "nbconvert_exporter": "python",
   "pygments_lexer": "ipython3",
   "version": "3.8.5"
  }
 },
 "nbformat": 4,
 "nbformat_minor": 5
}
